{
 "cells": [
  {
   "cell_type": "code",
   "execution_count": 1,
   "metadata": {},
   "outputs": [
    {
     "name": "stderr",
     "output_type": "stream",
     "text": [
      "/home/marcio/.virtualenvs/AvaliacoesGCC151_env/lib/python3.6/site-packages/requests/__init__.py:91: RequestsDependencyWarning: urllib3 (1.25.1) or chardet (3.0.4) doesn't match a supported version!\n",
      "  RequestsDependencyWarning)\n",
      "/home/marcio/.virtualenvs/AvaliacoesGCC151_env/lib/python3.6/site-packages/smart_open/ssh.py:34: UserWarning: paramiko missing, opening SSH/SCP/SFTP paths will be disabled.  `pip install paramiko` to suppress\n",
      "  warnings.warn('paramiko missing, opening SSH/SCP/SFTP paths will be disabled.  `pip install paramiko` to suppress')\n"
     ]
    }
   ],
   "source": [
    "from utils.lexical import normalizador\n",
    "normalizer = normalizador.Normalizador()\n",
    "from gensim.models import Word2Vec, Doc2Vec\n",
    "from gensim.models.doc2vec import TaggedDocument\n",
    "import os\n",
    "import re"
   ]
  },
  {
   "cell_type": "markdown",
   "metadata": {},
   "source": [
    "# Question 3 - Getting corpora data and normalizing"
   ]
  },
  {
   "cell_type": "markdown",
   "metadata": {},
   "source": [
    "## Getting corpora files"
   ]
  },
  {
   "cell_type": "code",
   "execution_count": 2,
   "metadata": {},
   "outputs": [],
   "source": [
    "corpora_path = '../data/corpora/'\n",
    "corpora_dirs = os.listdir(corpora_path)\n",
    "\n",
    "corpora_files = {} #elements are like corpus:[files]\n",
    "for corpus in corpora_dirs:\n",
    "    corpora_files[corpus] = [os.path.join(corpora_path + corpus, f)\n",
    "             for f in os.listdir(corpora_path + corpus)\n",
    "             if os.path.isfile(os.path.join(corpora_path + corpus, f))]"
   ]
  },
  {
   "cell_type": "markdown",
   "metadata": {},
   "source": [
    "## Getting data to construct Word2Vec and Doc2Vec\n",
    "\n",
    "Here we are going to collect the data in the following ways:\n",
    "* A list of all sentences(tokenized by words) for each corpus\n",
    "* A list of documents(tokenized by words) for the entire corpora\n",
    "\n",
    "The data will be normalized by transforming the text to lowercase and removing stopwords."
   ]
  },
  {
   "cell_type": "code",
   "execution_count": 3,
   "metadata": {},
   "outputs": [],
   "source": [
    "corpora_sentences = {} #elements are like: corpus:[sentences]\n",
    "corpora_documents = [] #elements are like: documents tokenized by words\n",
    "for corpus in corpora_files:\n",
    "    corpora_sentences[corpus] = []\n",
    "    for file in corpora_files[corpus]:\n",
    "        with open(file, 'r') as text_file:\n",
    "            #all files in my corpora have only one line\n",
    "            #because I removed the line brakes during the compilation\n",
    "            text = text_file.read()\n",
    "            \n",
    "            #removing trash read from the sports blog\n",
    "            if corpus == \"esporte\":\n",
    "                text = re.sub(\"^Pesquisar este blog \", '', text)\n",
    "            \n",
    "            #transforming to lowercase\n",
    "            text = normalizer.to_lowercase(text)\n",
    "            \n",
    "            #tokenizing by word and removing stopwords - this is for Doc2Vec\n",
    "            document = normalizer.tokenize_words(text)\n",
    "            document = normalizer.remove_stopwords(document)\n",
    "            corpora_documents.append(document)\n",
    "            \n",
    "            #tokenizes text by sentence - this is for Word2Vec\n",
    "            sentences = normalizer.tokenize_sentences(text)\n",
    "            #tokenizes each sentence by word, removes stopwords and adds it to the list\n",
    "            sentences = [normalizer.remove_stopwords(normalizer.tokenize_words(sent)) for sent in sentences]\n",
    "            corpora_sentences[corpus].extend(sentences)\n",
    "    \n",
    "    #this is also for Doc2Vec\n",
    "    tagged_documents = [TaggedDocument(words=d, tags=[str(i)]) \n",
    "                        for i, d in enumerate(corpora_documents)]"
   ]
  },
  {
   "cell_type": "markdown",
   "metadata": {},
   "source": [
    "# 3.a Creating Word2Vecs for each corpus"
   ]
  },
  {
   "cell_type": "markdown",
   "metadata": {},
   "source": [
    "### Training the Word2Vecs"
   ]
  },
  {
   "cell_type": "code",
   "execution_count": 4,
   "metadata": {},
   "outputs": [],
   "source": [
    "w2vmodels = {} #elements are like corpus: w2vmodel\n",
    "for corpus in corpora_sentences:\n",
    "    w2vmodels[corpus] = Word2Vec(corpora_sentences[corpus],\n",
    "        size=200, window=5, min_count=3, workers=4)\n",
    "        "
   ]
  },
  {
   "cell_type": "markdown",
   "metadata": {},
   "source": [
    "# 3.b Creating Doc2Vec for the corpora"
   ]
  },
  {
   "cell_type": "code",
   "execution_count": 5,
   "metadata": {},
   "outputs": [],
   "source": [
    "d2vmodel = Doc2Vec(tagged_documents, vector_size=20, window=2, min_count=1, workers=4)"
   ]
  },
  {
   "cell_type": "markdown",
   "metadata": {},
   "source": [
    "# Question 4"
   ]
  },
  {
   "cell_type": "markdown",
   "metadata": {},
   "source": [
    "## 4.a.i.1 - Using Word2Vec"
   ]
  },
  {
   "cell_type": "markdown",
   "metadata": {},
   "source": [
    "### Ex. 1:"
   ]
  },
  {
   "cell_type": "code",
   "execution_count": 6,
   "metadata": {},
   "outputs": [
    {
     "data": {
      "text/plain": [
       "[('gol', 0.9976754188537598),\n",
       " ('segundo', 0.9942683577537537),\n",
       " ('kalou', 0.9939731955528259),\n",
       " ('time', 0.9931455850601196),\n",
       " ('fim', 0.992465615272522),\n",
       " ('contra', 0.9923835396766663),\n",
       " ('tempo', 0.9923413991928101),\n",
       " ('vitória', 0.9913878440856934),\n",
       " ('primeiro', 0.991357684135437),\n",
       " ('placar', 0.9912301898002625)]"
      ]
     },
     "execution_count": 6,
     "metadata": {},
     "output_type": "execute_result"
    }
   ],
   "source": [
    "w2vmodels['esporte'].wv.most_similar('jogo', topn=10)"
   ]
  },
  {
   "cell_type": "markdown",
   "metadata": {},
   "source": [
    "### Ex. 2:"
   ]
  },
  {
   "cell_type": "code",
   "execution_count": 7,
   "metadata": {},
   "outputs": [
    {
     "data": {
      "text/plain": [
       "[('eletricidade', 0.933558464050293),\n",
       " ('colheita', 0.9207591414451599),\n",
       " ('eletromagnética', 0.8954999446868896),\n",
       " ('corrente', 0.8909374475479126),\n",
       " ('fornecimento', 0.88655686378479),\n",
       " ('emitida', 0.8834430575370789),\n",
       " ('partir', 0.8825719356536865),\n",
       " ('estática', 0.8756321668624878),\n",
       " ('fração', 0.87522953748703),\n",
       " ('alternada', 0.8704922199249268)]"
      ]
     },
     "execution_count": 7,
     "metadata": {},
     "output_type": "execute_result"
    }
   ],
   "source": [
    "w2vmodels['ciencia_e_tecnologia'].wv.most_similar('energia', topn=10)"
   ]
  },
  {
   "cell_type": "markdown",
   "metadata": {},
   "source": [
    "### Ex. 3:"
   ]
  },
  {
   "cell_type": "code",
   "execution_count": 8,
   "metadata": {},
   "outputs": [
    {
     "data": {
      "text/plain": [
       "[('orbitar', 0.9784016609191895),\n",
       " ('emitido', 0.9775774478912354),\n",
       " ('recombinam', 0.9726909399032593),\n",
       " ('positivamente', 0.9681613445281982),\n",
       " ('hidrogênio', 0.9661506414413452),\n",
       " ('converte', 0.9651137590408325),\n",
       " ('precisar', 0.9605320692062378),\n",
       " ('atômico', 0.9604289531707764),\n",
       " ('centenas', 0.95930415391922),\n",
       " ('90º', 0.9573465585708618)]"
      ]
     },
     "execution_count": 8,
     "metadata": {},
     "output_type": "execute_result"
    }
   ],
   "source": [
    "w2vmodels['ciencia_e_tecnologia'].wv.most_similar('átomo', topn=10)"
   ]
  },
  {
   "cell_type": "markdown",
   "metadata": {},
   "source": [
    "Do ponto de vista morfológico, algumas medidas podem ser tomadas para tentar aprimorar os restultados da aplicação do Word2Vec. O que foi empregado acima foi a remoção de palavras não-significativas que essas palavras cumprem apenas uma função estrutual no texto e pouco contribuem para o significado. Uma outra medida que possivelmente melhoraria os resultados obtidos seria lematizar as palavras antes de iniciar a análise, pois, assim, duas ocorrências com diferentes \"formas\" da mesma palavra contariam como o mesmo contexto. Essas são questões abertas à pesquisa e ao debate, e diferentes implementações de procedimentos para criar vetores de palavras baseadas em contagem tomam decisões diferentes sobre essa questão."
   ]
  },
  {
   "cell_type": "markdown",
   "metadata": {},
   "source": [
    "## 4.a.i.2 - Using Word2Vec\n",
    "\n",
    "O Word2Vec é normalmente utilizado para comparar o significado de palavaras. Com o intuito de comparar documentos inteiros, a abordagem pensada consiste em obter o vetor médio de todas as palavras de cada documento e utilizar esse valor como a representação do \"significado\" de cada documento."
   ]
  },
  {
   "cell_type": "markdown",
   "metadata": {},
   "source": [
    "* Creating the document vectors:"
   ]
  },
  {
   "cell_type": "code",
   "execution_count": 66,
   "metadata": {},
   "outputs": [],
   "source": [
    "import numpy as np\n",
    "\n",
    "w2v_sci = w2vmodels['ciencia_e_tecnologia']\n",
    "w2v_sci = w2vmodels['esporte']\n",
    "\n",
    "sci1 = [word for word in corpora_documents[0] if word in w2v_sci.wv.vocab]\n",
    "vec_sci1 = np.mean(w2v_sci.wv.__getitem__(sci1), axis=0)\n",
    "\n",
    "sci2 = [word for word in corpora_documents[1] if word in w2v_sci.wv.vocab]\n",
    "vec_sci2 = np.mean(w2v_sci.wv.__getitem__(sci2), axis=0)\n",
    "\n",
    "spo1 = [word for word in corpora_documents[-1] if word in w2v_spo.wv.vocab]\n",
    "vec_spo1 = np.mean(w2v_spo.wv.__getitem__(spo1), axis=0)\n",
    "\n",
    "spo2 = [word for word in corpora_documents[-2] if word in w2v_spo.wv.vocab]\n",
    "vec_spo2 = np.mean(w2v_spo.wv.__getitem__(spo2), axis=0)\n"
   ]
  },
  {
   "cell_type": "markdown",
   "metadata": {},
   "source": [
    "* Creating a function to calculate the cosine-similarity:"
   ]
  },
  {
   "cell_type": "code",
   "execution_count": 67,
   "metadata": {},
   "outputs": [],
   "source": [
    "import math\n",
    "\n",
    "def cosine_similarity(vec1, vec2):\n",
    "    if len(vec1) != len(vec2):\n",
    "        return \"Error: the vectors must have the same number of dimensions\"\n",
    "\n",
    "    dot_product = 0\n",
    "    norm1, norm2 = 0, 0\n",
    "    for i in range(len(vec1)):\n",
    "        dot_product += vec1[i] * vec2[i]\n",
    "        norm1 += vec1[i]**2\n",
    "        norm2 += vec2[i]**2\n",
    "    \n",
    "    norm1 = math.sqrt(norm1)\n",
    "    norm2 = math.sqrt(norm2)\n",
    "    \n",
    "    cos_sim = dot_product / (norm1 * norm2)\n",
    "    return cos_sim\n",
    "        "
   ]
  },
  {
   "cell_type": "markdown",
   "metadata": {},
   "source": [
    "* Calculating the cosine-similarity:"
   ]
  },
  {
   "cell_type": "code",
   "execution_count": 77,
   "metadata": {},
   "outputs": [
    {
     "name": "stdout",
     "output_type": "stream",
     "text": [
      "0.9990310045229385\n",
      "0.9968102370791975\n",
      "0.9908575834852444\n",
      "\n",
      "\n",
      "-0.9999999999999998\n",
      "0.9999999999999998\n"
     ]
    }
   ],
   "source": [
    "print(cosine_similarity(vec_sci1, vec_sci2))\n",
    "print(cosine_similarity(vec_spo1, vec_spo2))\n",
    "print(cosine_similarity(vec_sci2, vec_spo1))\n",
    "\n",
    "#testing the function\n",
    "v1 = [1, 1]\n",
    "v2 = [-1, -1]\n",
    "\n",
    "print('\\n')\n",
    "print(cosine_similarity(v1, v2))\n",
    "print(cosine_similarity(v1, v1))"
   ]
  },
  {
   "cell_type": "markdown",
   "metadata": {},
   "source": [
    "Os resultados mostram diferenças apenas a partir da terceira casa decimal; desconsiderando as magnitudes dessas diferenças, a ocorrência delas parece fazer um certo sentido, suspeito que a forma de calcular um vetor para o documento deva ser aprimorada para produzir diferenças mais significativas."
   ]
  },
  {
   "cell_type": "markdown",
   "metadata": {},
   "source": [
    "## 4.b - Using Doc2Vec"
   ]
  },
  {
   "cell_type": "markdown",
   "metadata": {},
   "source": [
    "* Creating a function to find the most similar document in a specific corpus:"
   ]
  },
  {
   "cell_type": "code",
   "execution_count": 83,
   "metadata": {},
   "outputs": [],
   "source": [
    "def most_similar_doc(d2v, corpus_docs, model_d2v):\n",
    "    from scipy import spatial\n",
    "    \n",
    "    smallest_dist = 1\n",
    "    most_similar = None\n",
    "    \n",
    "    for doc in corpus_docs:\n",
    "        doc2v = d2vmodel.infer_vector(doc)\n",
    "        cos_dist = spatial.distance.cosine(d2v, doc2v)\n",
    "        if(cos_dist < smallest_dist):\n",
    "            most_similar = doc\n",
    "            smallest_dist = cos_dist\n",
    "    \n",
    "    return most_similar"
   ]
  },
  {
   "cell_type": "code",
   "execution_count": 95,
   "metadata": {},
   "outputs": [
    {
     "name": "stdout",
     "output_type": "stream",
     "text": [
      "Sci doc:\n",
      "\n",
      "['físicos', 'detectaram', 'assinatura', 'reações', 'fusão', 'nuclear', 'aparato', 'experimental', 'mesa', ',', 'comumente', 'usado', 'estudar', 'plasmas', 'encontrados', 'estrelas', 'outros', 'corpos', 'astrofísicos', '.', 'futuros', 'reatores', 'fusão', 'nuclear', 'prometem', 'possibilidade', 'fornecer', 'terra', 'fonte', 'ilimitada', 'energia', 'limpa', ',', 'verdadeiras', 'estrelas', 'artificiais', '.', 'tentativas', 'criar', 'reatores', 'fusão', 'nuclear', 'normalmente', 'envolvem', 'engenhocas', 'tamanho', 'edifícios', 'gerar', 'plasma', 'quente', 'necessário', 'iniciar', 'reações', 'fusão', '-', 'é', 'caso', 'projetos', 'experimentais', 'iter', 'wendelstein', '7x', 'propostas', 'ambiciosas', 'curto', 'prazo', ',', 'sparc', 'hb11', '.', 'yue', 'zhang', ',', 'universidade', 'washington', ',', 'eua', ',', 'acredita', 'ter', 'iniciado', 'sucesso', 'fusão', 'nuclear', 'sustentada', 'usando', 'configuração', 'é', 'pequena', 'suficiente', 'ser', 'posta', 'sobre', 'mesa', '.', 'pinça', 'z', 'zhang', 'trabalhando', 'configuração', 'experimental', 'conhecida', '``', 'pinça', 'z', \"''\", ',', 'zeta', 'pinch', ',', 'corrente', 'elétrica', 'plasma', 'gera', 'campo', 'magnético', '``', 'belisca', \"''\", 'plasma', ',', 'comprimindo-o', 'localmente', ',', 'pinça', '.', 'pesquisadores', 'têm', 'usado', 'configuração', 'décadas', 'estudar', 'laboratório', 'acontece', 'interior', 'estrelas', '.', 'década', '1950', ',', 'alguns', 'detectaram', 'assinaturas', 'nêutrons', 'gerados', 'reações', 'fusão', 'dentro', 'z-pinch', '.', ',', 'apesar', 'desse', 'sucesso', 'inicial', ',', 'pesquisadores', 'haviam', 'desistido', 'reatores', 'fusão', 'baseados', 'pinças', 'z', 'causa', 'natureza', 'instável', 'plasmas', 'equipamentos', 'produzem', '.', 'zhang', 'colegas', 'descobriram', 'maneira', 'contornar', 'problema', ',', 'gerando', 'plasma', 'estável', 'partir', 'átomos', 'hidrogênio', 'deutério', '.', 'fazer', ',', 'equipe', 'aplicou', 'força', 'cisalhamento', 'plasma', 'enquanto', 'avançava', 'através', 'acelerador', '.', 'gerou', 'fluxo', 'radial', 'manteve', 'plasma', 'estável', '.', 'plasma', 'resultante', 'permaneceu', 'estável', 'cerca', '16', 'microssegundos', '(', 'µs', ')', ',', '5.000', 'vezes', 'é', 'possível', 'plasmas', 'estáticos', '.', 'durante', 'período', 'estável', ',', 'equipe', 'detectou', 'presença', 'nêutrons', 'alta', 'energia', 'esperados', 'reação', 'fusão', 'nuclear', ',', 'sinal', 'durando', '5', 'µs', '.', 'embora', 'existam', 'muitas', 'etapas', 'desta', 'demonstração', 'inicial', 'reator', 'viável', ',', 'experimento', 'aponta', 'uso', 'potencial', 'pinça', 'z', 'futuros', 'geradores', 'energia', 'fusão', 'nuclear', 'compactos', '.']\n",
      "\n",
      "Most similar spo found:\n",
      "\n",
      "['30', 'países', '240', 'atletas', 'inscritos', ',', 'rio', 'sedia', 'mundial', 'paraciclismo', '1ª', 'vez', 'velódromo', 'parque', 'olímpico', 'barra', 'tijuca', ',', 'rio', ',', 'recebe', ',', 'partir', 'desta', 'quinta-feira', ',', 'mundial', 'paraciclismo', 'pista', '.', 'contando', 'participação', '240', 'atletas', '30', 'países', ',', 'evento', ',', 'inédito', 'país', ',', 'conta', 'pontos', 'ranking', 'classificatório', 'jogos', 'paralímpicos', 'tóquio', '2020.', 'cerimônia', 'abertura', '9h30', 'disputas', 'começam', '10h', 'provas', 'qualificatórias', '.', 'partir', '15h', 'realizadas', 'primeiras', 'finais', '.', 'mundial', 'vai', 'domingo', 'entrada', 'gratuita', '.', '-', 'animados', '.', 'equipe', 'bem', 'equilibrada', 'esperamos', 'fazer', 'grande', 'evento', 'torcida', '.', 'vamos', 'ter', 'pilotos', 'profissionais', 'experiência', 'grandes', 'competições', 'guiar', 'paratletas', 'tandem', '(', 'marcia', 'marcelo', ')', '.', 'johnatan', 'c5', 'é', 'bom', ',', 'dois', 'atletas', 'goiás', ',', 'carlos', 'alberto', 'c1', 'victor', 'c2', ',', 'além', 'fabio', 'lucato', '(', 'c3', ')', ',', 'pedalando', 'bom', 'nível', 'podem', 'surpreender', '.', 'lauro', 'ciclo', 'bom', 'anos', '2016', '2017', 'deve', 'ser', 'destaques', '.', 'experiente', 'equipe', ',', 'soelito', 'gohr', ',', 'concentrará', 'energia', 'única', 'prova', '.', 'primeira', 'vez', ',', 'representante', 'mulher', 'classe', 'c5', ',', 'telma', '-', 'disse', 'chefe', 'delegação', 'brasil', ',', 'romolo', 'lazzaretti', '.', 'participantes', 'mundial', ',', '48', ',', 'sendo', '26', 'homens', '22', 'mulheres', ',', 'medalhistas', 'jogos', 'paralímpicos', 'rio', '.', 'primeira', 'disputa', 'desta', 'quinta', 'classe', 'c2', ',', 'participação', 'australiana', 'amanda', 'reid', ',', 'ganhadora', 'três', 'ouros', 'último', 'mundial', ';', 'holandesa', 'alyda', 'norbruis', ',', 'dona', 'dois', 'ouros', 'rio', '2016', ';', 'chinesa', 'zeng', 'sini', ',', 'vencedora', 'dois', 'ouros', 'mundial', '2016.', 'c3', 'feminino', ',', 'grandes', 'nomes', 'americana', 'jamie', 'whitmore', ',', 'ouro', 'prata', 'jogos', 'rio', '2016', ';', 'australiana', 'simone', 'kennedy', ',', 'prata', 'jogos', 'londres', '2012', ';', 'britânica', 'megan', 'giglia', ',', 'bicampeã', 'mundial', 'ouro', 'rio', '2016.', 'c2', 'masculino', ',', 'tristen', 'chernove', 'é', 'grandes', 'nomes', 'desse', 'mundial', '.', 'canadense', 'ganhou', 'seis', 'últimos', 'oito', 'ouros', 'grandes', 'competições', ',', 'sendo', 'três', 'mundial', '2017', ',', 'duas', 'mundial', '2016', 'jogos', 'rio', '.', 'perseguição', 'individual', 'classe', 'c3', 'masculina', ',', 'duelo', 'deve', 'ser', 'americano', 'joseph', 'berenyi', ',', 'ouro', ',', 'prata', 'bronze', 'londres', '2012', 'prata', 'rio', '2016', ',', 'contra', 'australiano', 'david', 'nicholas', ',', 'ouro', 'bronze', 'londres', '2012', 'ouro', 'rio', '2016', '.', '-', 'espero', 'obter', 'bons', 'resultados', 'aqui', 'mundial', '.', 'pista', 'continua', 'boa', 'bem', 'feliz', 'poder', 'voltar', 'competir', 'rio', '-', 'disse', 'david', 'nicholas', '.', 'aglo', 'consegue', 'licença', 'realizar', 'evento', 'longo', 'ano', 'passado', ',', 'velódromo', 'passou', 'dois', 'incêndios', ',', 'causados', 'balões', '.', 'conta', 'danos', 'teto', ',', 'mundial', 'paracicilsmo', 'ficou', 'ameaçado', 'acontecer', '.', 'responsável', 'manutenção', 'equipamento', ',', 'autoridade', 'governança', 'legado', 'olímpico', '(', 'aglo', ')', 'conseguiu', 'licença', 'junto', 'corpo', 'bombeiros', 'últimas', 'semanas', '.', '-', 'agora', 'todas', 'licenças', 'necessárias', 'eventos', 'público', 'voltem', 'ocorrer', 'velódromo', '.', 'gente', 'utilizava', 'pista', 'projeto', 'social', 'treinos', 'alto', 'rendimento', '.', 'estar', 'liberada', 'mundial', 'é', 'honra', 'gente', '-', 'comemorou', 'presidente', 'autarquia', ',', 'paulo', 'márcio', 'dias', 'mello', ',', 'firmou', 'parceria', 'confederação', 'brasileira', 'ciclismo', '(', 'cbc', ')', ',', 'comitê', 'paralímpico', 'brasileiro', '(', 'cpb', ')', 'ministério', 'esporte', 'realização', 'competição', '.', 'todo', ',', 'distribuídas', '114', 'medalhas', 'quatro', 'dias', 'mundial', '.', 'expectativa', 'aglo', 'é', 'cerca', '1', 'mil', 'fãs', 'pista', 'velocidade', 'passem', 'diariamente', 'velódromo', 'prestigiar', 'campeonato', ',', 'chancela', 'co-organização', 'união', 'ciclística', 'internacional', '(', 'uci', ')', '.']\n"
     ]
    }
   ],
   "source": [
    "sci_docs = corpora_documents[:500]\n",
    "spo_docs = corpora_documents[500:]\n",
    "\n",
    "d2v_sci1 = d2vmodel.infer_vector(sci_docs[0])\n",
    "d2v_sci2 = d2vmodel.infer_vector(sci_docs[1])\n",
    "d2v_spo1 = d2vmodel.infer_vector(spo_docs[499])\n",
    "\n",
    "most_similar = most_similar_doc(d2v_sci1, spo_docs, d2vmodel)\n",
    "\n",
    "print(\"Sci doc:\\n\\n{}\\n\".format(sci_docs[0]))\n",
    "print(\"Most similar spo doc found:\\n\\n{}\".format(most_similar))"
   ]
  },
  {
   "cell_type": "code",
   "execution_count": 96,
   "metadata": {},
   "outputs": [
    {
     "name": "stdout",
     "output_type": "stream",
     "text": [
      "Spo doc:\n",
      "\n",
      "['pesquisar', 'blog', 'cob', 'divulga', 'candidatos', 'esportistas', 'ano', ';', 'veja', 'nadador', 'cesar', 'cielo', ',', 'judoca', 'leandro', 'guilheiros', 'ponteiro', 'murilo', 'enfres', ',', 'seleção', 'brasileira', 'masculina', 'vôlei', ',', 'três', 'candidatos', 'troféu', 'melhor', 'esportista', 'ano', 'masculino', '.', 'feminino', 'disputa', 'ana', 'marcela', 'cunha', '(', 'maratonas', 'aquáticas', ')', ',', 'fabiana', 'murer', '(', 'atletismo', ')', 'dupla', 'juliana', 'larissa', '(', 'vôlei', 'praia', ')', '.', 'concorrentes', 'anunciados', 'comitê', 'olímpico', 'brasileiro', '(', 'cob', ')', 'nesta', 'sexta-feira', '.', 'torcedores', 'poderão', 'votar', 'partir', 'próxima', 'terça-feira', 'site', 'oficial', 'cob', '(', 'www.cob.com.br', ')', 'escolherem', 'campeão', 'duas', 'eleições', '.', 'anúncio', 'vencedores', 'acontecerá', 'dia', '20', 'dezembro', ',', 'durante', 'cerimônia', 'prêmio', 'brasil', 'olímpico', ',', 'teatro', 'mam', ',', 'rio', 'janeiro', '.', 'júri', 'composto', 'jornalistas', ',', 'dirigentes', ',', 'ex-atletas', 'personalidades', 'esporte', 'encarregado', 'apontar', 'três', 'melhores', 'feminino', 'masculino', '.', 'grupo', 'apontou', 'vencedores', 'melhor', 'ano', 'cada', '47', 'modalidades', 'esportivas', '(', 'veja', 'lista', 'abaixo', ')', '.', 'votos', 'peso', '50', '%', 'eleição', 'final', 'após', 'computados', 'votos', 'internautas', '.', '2010', ',', 'além', 'atletas', 'individuais', ',', 'passaram', 'concorrer', 'melhor', 'modalidade', 'melhor', 'ano', 'equipes', ',', 'times', ',', 'técnicos', ',', 'duplas', ',', 'trincas', 'quadras', ',', 'revezamentos', 'atletismo', 'natação', '.', 'novo', 'critério', 'permitiu', 'dupla', 'juliana', 'larissa', 'vencesse', 'modalidade', 'concorresse', 'troféu', '.']\n",
      "\n",
      "Most similar sci found:\n",
      "\n",
      "['sonda', 'espacial', 'vai', 'medir', 'sinais', 'vitais', 'marte', 'instrumentos', 'insight', 'permitirão', 'medir', '``', 'sinais', 'vitais', \"''\", 'marte', '.', '[', 'imagem', ':', 'jpl/nasa', ']', 'sonda', 'estudar', 'interior', 'marte', 'tudo', 'correr', 'programado', ',', 'nasa', 'lançará', 'neste', 'sábado', 'nova', 'sonda', 'robótica', 'estudar', 'marte', '.', 'sonda', 'insight', ',', 'sigla', 'inglês', '``', 'exploração', 'interior', 'usando', 'investigações', 'sísmicas', ',', 'geodesia', 'transporte', 'calor', \"''\", ',', 'primeira', 'missão', 'dedicada', 'explorar', 'interior', 'profundo', 'marte', ',', 'incluindo', 'sismógrafo', ',', 'primeiro', 'dispositivo', 'deste', 'tipo', 'enviado', 'medir', 'terremotos', 'solo', 'outro', 'planeta', '.', 'objetivo', 'primário', 'missão', 'é', 'entender', 'formação', 'evolução', 'marte', '.', 'objetivo', 'secundário', 'é', 'determinar', 'nível', 'atividade', 'tectônica', 'planeta', '.', '``', 'certa', 'forma', ',', 'insight', 'é', 'máquina', 'tempo', 'científica', 'trará', 'volta', 'informações', 'sobre', 'primeiros', 'estágios', 'formação', 'marte', ',', '4,5', 'bilhões', 'anos', 'atrás', '.', 'ajudará', 'aprender', 'corpos', 'rochosos', 'formam', ',', 'incluindo', 'terra', ',', 'lua', 'planetas', 'outros', 'sistemas', 'solares', ',', \"''\", 'disse', 'bruce', 'banerdt', ',', 'líder', 'científico', 'missão', '.', 'sonda', 'espacial', 'carrega', 'conjunto', 'instrumentos', 'alta', 'precisão', ',', 'instrumentos', 'exigem', 'módulo', 'estacionário', '-', 'vez', 'robô', '-', 'partir', 'podem', 'ser', 'cuidadosamente', 'colocados', 'sobre', 'abaixo', 'superfície', 'marciana', '.', 'nasa', 'é', 'única', 'agência', 'envolvida', 'nessa', 'missão', '.', 'vários', 'parceiros', 'europeus', 'contribuíram', 'instrumentos', 'componentes', 'instrumentos', 'laboratório', 'insight', '.', 'centro', 'nacional', 'estudos', 'espaciais', 'frança', 'liderou', 'equipe', 'multinacional', 'construiu', 'sismógrafo', 'ultrassensível', 'detectar', '``', 'martemotos', \"''\", '.', 'centro', 'aeroespacial', 'alemão', '(', 'dlr', ')', 'desenvolveu', 'sonda', 'térmica', 'pode', 'enterrar', '5', 'metros', 'subsolo', 'medir', 'calor', 'flui', 'dentro', 'planeta', '.', 'instrumento', 'rise', '(', 'sigla', 'inglês', 'experimento', 'ciência', 'rádio', ')', 'deverá', 'medir', 'variações', 'mínimas', 'localização', 'módulo', 'pouso', 'determinar', 'marte', '``', 'balança', \"''\", 'órbita', '.', 'medições', 'darão', 'informações', 'sobre', 'natureza', 'núcleo', 'interno', 'profundo', 'marte', ',', 'profundidade', 'núcleo', 'marte', 'torna', 'sólido', 'quais', 'outros', 'minerais', ',', 'além', 'ferro', ',', 'podem', 'estar', 'presentes', '.', 'segundo', 'nasa', ',', 'juntos', ',', 'instrumentos', 'permitirão', 'medir', '``', 'sinais', 'vitais', \"''\", 'marte', ':', 'pulso', '(', 'sismologia', ')', ',', 'temperatura', '(', 'sonda', 'fluxo', 'calor', ')', 'reflexos', '(', 'modo', 'planeta', 'balança', 'é', 'puxado', 'sol', 'luas', ')', '.']\n"
     ]
    }
   ],
   "source": [
    "most_similar = most_similar_doc(d2v_spo1, sci_docs, d2vmodel)\n",
    "\n",
    "print(\"Spo doc:\\n\\n{}\\n\".format(spo_docs[499]))\n",
    "print(\"Most similar sci doc found:\\n\\n{}\".format(most_similar))"
   ]
  },
  {
   "cell_type": "code",
   "execution_count": 97,
   "metadata": {},
   "outputs": [
    {
     "name": "stdout",
     "output_type": "stream",
     "text": [
      "Sci doc:\n",
      "\n",
      "['vasile', 'palade', '(', 'universidade', 'coventry', ')', 'gerry', 'wolff', '(', 'cognition', 'research', ')', ',', 'acreditam', 'é', 'possível', 'começar', 'desenvolver', 'novo', 'modelo', 'inteligência', 'artificial', 'supere', 'deficiências', 'sistemas', 'atuais', '.', 'chamam', 'atenção', 'limitações', 'aprendizagem', 'profunda', ',', '``', 'esquecimento', 'catastrófico', \"''\", ',', 'significa', ',', 'sistema', 'aprendizagem', 'profunda', 'aprende', 'algo', 'novo', ',', 'novo', 'aprendizado', 'pode', 'eliminar', 'tudo', 'sistema', 'aprendeu', 'antes', '.', 'levantado', 'preocupação', 'crescente', 'sobre', 'aprendizagem', 'profunda', 'caminho', 'desenvolvimento', 'inteligência', 'artificial', 'consiga', 'competir', 'inteligência', 'humana', '.', 'dupla', 'propõe', 'outra', 'rota', ':', 'teoria', 'inteligência', 'sp', ',', 'desenvolvida', 'combinar', 'simplicidade', '(', 's', ')', 'estrutura', 'funcionamento', 'poder', '(', 'p', ')', 'descritivo', 'explicativo', 'gama', 'relativamente', 'ampla', 'áreas', 'inteligência', 'artificial', '.', 'termos', 'gerais', ',', 'sistema', 'sp', 'é', 'sistema', 'tipo', 'cerebral', 'captura', 'informações', 'novas', 'através', '``', 'sentidos', \"''\", 'armazena', 'algumas', 'todas', '``', 'informações', 'velhas', \"''\", ',', 'deixa', 'sistema', 'sempre', 'aberto', 'novo', ',', 'esquecer', 'passado', '.', 'alternativa', 'aprendizagem', 'profunda', ',', 'teoria', 'inteligência', 'sp', 'desenvolvimento', 'desde', '1987', 'usando', 'modelos', 'computador', 'meio', 'expressar', 'teoria', ',', 'testá-la', 'demonstrar', 'pode', 'fazer', '.', 'inteligência', 'artificial', 'tipo', 'cerebral', 'nunca', 'esquece', '.', '[', 'imagem', ':', 'j.', 'gerard', 'wolff', ']', 'ainda', 'consegue', 'aprender', 'xadrez', 'go', ',', ',', 'comparação', 'aprendizado', 'profundo', ',', 'pontos', 'fortes', 'potenciais', 'área', 'ampla', ',', 'incluindo', 'sistema', 'aprende', ',', 'vários', 'tipos', 'raciocínio', ',', 'reconhecimento', 'padrões', ',', 'recuperação', 'informações', 'armazenadas', ',', 'processamento', 'linguagem', 'natural', ',', 'fazer', 'planos', 'resolver', 'problemas', '.', 'dupla', 'afirma', ',', 'menos', 'termos', 'teoria', 'inteligência', 'modelo', 'computacional', ',', 'sistema', 'sp', 'sofre', 'nenhum', 'vários', 'pontos', 'fracos', 'identificados', 'aprendizagem', 'profunda', '.', 'teoria', 'fundamentada', 'sistema', 'elaborado', ',', 'falta', 'agora', 'partir', 'prática', ',', 'máquina', 'inteligência', 'artificial', 'sp', '.', '``', 'máquina', 'sp', 'desenvolvida', 'inicialmente', 'máquina', 'virtual', 'software', 'altos', 'níveis', 'processamento', 'paralelo', ',', 'hospedada', 'computador', 'alto', 'desempenho', '.', 'sistema', 'deverá', 'ajudar', 'usuários', 'visualizar', 'estruturas', 'conhecimento', 'processamento', ',', \"''\", 'diz', 'dupla', '.', 'proposta', ',', 'esperam', 'agora', 'entusiasmar', 'outros', 'pesquisadores', 'possa', 'formar', 'consórcio', 'desenvolvimento', 'primeiras', 'máquinas', 'sp', '.', '``', 'equipamento', 'necessário', 'é', 'agora', 'bastante', 'acessível', ',', 'equipes', 'pesquisadores', 'outros', 'lugares', ',', 'indivíduos', ',', 'podem', 'cooperar', 'desenvolvimento', 'máquina', 'sp', ',', \"''\", 'afirmam', '.']\n",
      "\n",
      "Most similar spo doc found:\n",
      "\n",
      "['villeneuve', 'defende', 'ecclestone', 'ataca', '``', 'meninos', \"''\", 'grid', 'fórmula', '1', 'currículo', 'diz', 'si', ':', 'canadense', 'jacques', 'villeneuve', ',', '43', 'anos', ',', 'forma', 'ítalo-americano', 'mario', 'andretti', 'emerson', 'fittipaldi', 'trio', 'únicos', 'pilotos', 'história', 'serem', 'campeões', 'f1', ',', 'f', 'indy', 'vencerem', '500', 'milhas', 'indianápolis', '.', 'máximo', 'automobilismo', '.', 'jacques', 'traz', 'algo', 'consigo', '.', 'é', 'filho', 'gilles', 'villeneuve', '.', 'pai', 'é', 'ainda', 'hoje', 'mito', ',', 'apesar', 'acidente', 'fatal', 'classificação', 'gp', 'bélgica', '1982', ',', 'ferrari', '.', 'jacques', 'herdou', 'parte', 'daquela', 'gana', 'insaciável', 'vencer', 'gilles', '.', 'pista', 'demonstra', 'arrojo', '.', 'expressa', 'pensa', ',', 'doa', 'doer', '.', 'visão', 'quase', 'tudo', 'é', 'sempre', 'polêmica', '.', 'f1', 'hoje', ',', 'exemplo', ',', 'quase', 'nada', 'salva', '.', 'pilotos', '``', 'meninos', 'homens', \"''\", '.', 'previsão', 'futuro', 'é', 'sombria', '.', '``', 'bernie', 'ecclestone', 'f1', 'vai', 'morrer', '.', \"''\", 'apesar', 'ter', 'parado', 'correr', 'f1', '2006', ',', '163', 'gps', ',', 'título', '1997', ',', 'williams-renault', ',', '11', 'vitórias', '13', 'poles', ',', 'jacques', 'deixa', 'claro', 'chamaram', 'competir', 'pronto', ',', 'onde', '.', '``', 'é', 'mantém', 'vivo', '.', \"''\", 'mês', 'passado', 'assumiu', 'todos', 'riscos', 'voltar', 'disputar', '500', 'milhas', 'indianápolis', ',', '19', 'anos', 'tê-la', 'vencido', '.', '``', 'divertimento', '!', \"''\", 'acabou', '14.º', '.', 'áustria', ',', 'jacques', 'conversou', 'durante', 'longo', 'tempo', 'uol', 'esporte', ',', 'conversa', 'entrevista', 'propriamente', '.', 'vai', 'todas', 'corridas', ',', 'ser', 'comentarista', 'tv', 'sky', 'itália', ',', 'além', 'colaborar', 'canal', 'plus', 'frança', '.', 'uol', '-', 'jacques', ',', 'tornou', 'comentarista', 'f1', 'últimos', 'dois', 'anos', 'telespectadores', 'adoram', 'estilo', 'direto', 'objetivo', '.', 'gostando', 'experiência', '?', 'jacques', 'villeneuve', '(', 'jv', ')', '-', 'é', 'divertido', ',', 'dúvida', 'é', 'paixão', 'pilotar', '.', 'conheço', 'bem', 'ambiente', ',', 'coisas', 'carro', ',', 'f1', ',', 'portanto', 'é', 'fácil', 'mim', '.', 'gosto', 'nesse', 'projeto', 'é', 'tanto', 'tv', 'italiana', 'quanto', 'francesa', 'total', 'liberdade', '.', 'posso', 'dizer', 'penso', ',', 'basta', 'apenas', 'comentários', 'claros', '.', 'tv', 'política', ',', 'falar', 'franceses', ',', 'fingir', ',', 'mentir', ',', 'aceitaria', 'convite', '.', 'uol', '-', 'parece', 'divertir', 'paddock.jv', '-', 'sim', ',', 'opção', 'pilotar', 'temporada', 'inteira', ',', 'puder', 'escolher', 'estar', 'atrás', 'volante', 'comentar', 'corridas', 'certamente', 'vou', 'preferir', 'continuar', 'piloto', '.', 'fiz', 'ano', '500', 'milhas', 'indianápolis', ',', 'participei', 'rally', 'cross', ',', 'é', 'mantém', 'vivo', '.', 'chance', '24', 'horas', 'le', 'mans', 'vou', ',', 'carro', 'capaz', 'permitir', 'lutar', 'vitória', '.', '(', 'villeneuve', 'é', 'comentarista', 'sky', 'itália', 'canal', 'plus', 'frança', '.', ')', 'uol', '-', 'voltar', 'correr', 'indianápolis', '19', 'anos', 'vencer', 'corrida', 'famosa', 'mundo', '?', 'jv', '-', 'adorei', ',', 'velocidade', '!', 'limite', '.', 'trabalha-se', 'bastante', ',', 'carros', ',', 'tráfego', ',', 'riscos', ',', 'coração', 'bate', 'forte', '.', 'acaba', 'corrida', 'sabe', 'fez', 'algo', 'especial', ',', 'agrada', ',', 'realizar', 'ação', 'todos', 'conseguiriam', '.', '(', 'ano', 'villeneuve', 'aceitou', 'desafio', ',', '43', 'anos', ',', 'voltar', 'correr', 'indianápolis', ',', 'prova', 'vencida', '1995', ',', 'campeão', 'fórmula', 'indy', ',', 'equipe', 'green', '.', 'largou', '27.º', 'lugar', 'recebeu', 'bandeirada', '14.º', ',', 'equipe', 'schimidt', 'peterson', 'motosport', '.', ')', 'uol', '-', 'sente', 'ainda', 'piloto', 'competitivo', ',', 'condições', 'lutar', 'vitórias', 'disputar', 'títulos', '?', 'jv', '-', 'seguramente', '.', 'vontade', 'vencer', 'é', 'mesma', 'menino', ',', 'vantagem', 'agora', 'experiência', '.', 'maturidade', 'ajuda', 'tomar', 'decisões', 'certas', 'momentos', 'difíceis', '.', 'é', 'jovem', 'é', 'fácil', 'errar', '.', 'anos', 'mantêm', 'calmo', ',', 'ajudam', 'entender', 'hora', 'certa', 'tomar', 'decisão', ',', 'enquanto', 'começo', 'pensa', '.', 'experiência', ',', 'idade', 'têm', 'papel', 'importante', 'poder', 'concentração', ',', 'cresce', ',', 'corridas', 'parecem', 'ficam', 'curtas', '.', 'uol', '-', 'carros', 'f1', 'hoje', 'bastante', 'distintos', 'williams-renault', '1997', ',', 'campeão', '.', 'acompanha', 'tudo', 'perto', ',', 'estar', 'aqui', 'ainda', 'f1', ',', 'competições', 'prefere', ',', 'época', 'sucesso', 'atual', '?', 'jv', '-', 'gosto', 'desse', 'modelo', 'aí', '.', 'sempre', 'apreciei', 'aspectos', 'mecânicos', 'f1', '.', 'piloto', ',', 'equipe', 'podem', 'dispor', 'dados', 'apurados', 'telemetria', ',', 'apenas', 'ver', 'fazer', ',', 'trabalhar', 'carro', '.', 'mim', 'faz', 'folha', 'papel', ',', 'engenheiro', 'lado', 'muita', 'conversa', '.', 'piloto', 'ter', 'olhos', 'ver', 'suspensão', 'funcionando', 'saber', 'razão', ',', 'exemplo', ',', 'carro', 'saindo', 'frente', '.', 'analisar', 'movimento', 'suspensão', 'ser', 'capaz', 'associar', 'passa', 'carro', '.', 'pilotos', 'hoje', 'aprenderam', 'nada', 'disso', '.', 'antigos', ',', 'fernando', 'alonso', ',', 'entendem', 'funcionamento', 'carro', ',', 'conseguem', 'tirar', 'proveito', 'disso', '.', 'uol', '-', 'michael', 'schumacher', 'disse', ',', 'voltou', 'correr', 'f1', ',', 'mercedes', ',', '2010', ',', 'aspectos', 'sentia', 'dificuldade', 'profunda', 'interação', 'necessária', 'vários', 'recursos', 'carro', '.', 'rubens', 'barrichello', 'comentou', 'sobre', 'idade', 'é', 'impedimento', 'comparado', 'jovens.jv', '-', 'depende', '.', 'sempre', 'gostei', 'bastante', 'computadores', ',', 'grande', 'interação', ',', 'faço', 'programas', '.', 'gosto', 'f1', 'é', 'associação', 'excessiva', 'duas', 'coisas', ',', 'computador', 'carro', ',', 'ajudar', 'piloto', '.', 'engenheiros', 'hoje', 'querem', 'pilotos', 'digam', 'carro', 'comportando', ',', 'pois', 'computadores', 'fazem', 'tudo', '.', 'desejam', 'pilotos', 'trabalhem', 'antes', '.', 'precisa', 'entender', 'funcionamento', 'carro', 'melhorá-lo', ',', 'é', 'tudo', 'automático', '.', 'sistemas', 'hidráulico', 'mercedes', ',', 'responsável', 'controle', 'altura', 'frente', 'traseira', ',', 'ajustes', 'contrários', 'lógica', ',', 'intuitivos', ',', 'piloto', 'pode', 'entender', '.', 'fazem', 'acerto', 'explicam', 'é.', 'uol', '-', 'podemos', 'entender', 'ainda', 'competitivo', 'nessa', 'f1', 'supertecnológica.jv', '-', 'penso', 'sim', '.', 'posso', 'dizer', 'porque', 'vão', 'dizer', 'ah', '...', '.', 'fisicamente', 'carros', 'fáceis', 'ser', 'pilotados', ',', 'lentos', 'deixei', 'f1', '(', 'meio', 'temporada', '2006', ',', 'gp', 'alemanha', ',', 'pilotava', 'bmw', 'sauber', ')', ',', 'portanto', 'problema', '.', 'europa', 'impossível', '.', '25', 'anos', 'é', 'velho', '.', 'indianápolis', '(', 'mês', 'passado', ')', 'pessoas', 'felizes', 'ver', 'assumir', 'riscos', 'disputar', '500', 'milhas', '43', 'anos', '.', 'tudo', 'bem', ',', 'fiz', 'tudo', 'certo', 'corrida', 'jogam', 'cima', ',', 'baixo', ',', 'ambiente', 'é', 'outro', '.', 'aqui', 'f1', 'é', 'tudo', 'diferente', '.', 'feliz', 'sebastian', 'vettel', 'ir', 'bem', '.', 'é', 'atual', 'tetracampeão', 'mundo', ',', 'dizem', 'ficou', 'lento', ',', 'é', 'horrível', 'ouvir', '.', 'uol', '-', 'voltando', 'atual', 'temporada', ',', 'sido', 'crítico', 'bandeiras', 'levantadas', 'regulamento.jv', '-', 'sim', ',', 'apesar', 'algumas', 'belas', 'corridas', ',', 'graças', 'novo', 'regulamento', '.', 'existe', 'hoje', 'é', 'f1', '.', 'bandeira', 'preservar', 'verde', ',', 'economizar', 'despesas', 'é', 'tudo', 'falso', ',', 'funciona', '.', 'f1', 'deve', 'ser', 'extrema', ',', 'deve', 'ser', 'coisa', 'normal', ',', 'algo', 'humana', ',', '1000', 'cavalos', '.', 'lembro', 'tempo', 'senna', ',', 'via', 'provas', 'tv', 'dizia', 'mim', \"'meu\", 'deus', ',', 'vou', 'ser', 'capaz', 'pilotar', 'carros', \"'\", '.', 'chega', 'lá', 'adapta', '.', 'hoje', 'carros', 'lentos', ',', 'barulho', ',', 'ainda', 'secundário', '.', 'tudo', 'artificial', 'demais', ',', 'drs', '(', 'flap', 'móvel', 'facilitar', 'ultrapassagens', ')', ',', 'agora', 'querem', 'introduzir', 'faíscas', ',', 'tentando', 'tornar', 'americanos', ',', 'fazer', 'show', 'privilegiar', 'competição', '.', 'adotaram', 'drs', '50', 'ultrapassagens', 'corrida', '.', 'reclamaram', 'demais', '.', 'começa', 'artificialismos', 'pode', 'voltar', 'atrás', ',', 'quer', 'dizer', 'morrendo', ',', 'acabou', '.', 'pode', 'fazer', 'corrida', 'verdade', '.', 'uol', '-', ',', 'então', ',', 'f1', '?', 'jv', '-', 'primeira', 'providência', 'proibir', 'toda', 'telemetria', '.', 'f1', 'homem', ',', 'carro', ',', 'equipe', 'trabalho', '.', 'daria', 'liberdade', ',', 'especial', 'quanto', 'motores', '.', 'ok', ',', 'limitar', 'consumo', 'combustível', 'é', 'algo', 'interessante', ',', 'algo', 'bom', ',', 'então', 'estabeleceria', 'limite', 'gasolina', ',', 'digamos', '60', 'quilos', ',', 'diria', 'veja', 'faz', '.', 'capaz', 'produzir', 'motor', '1.400', 'cavalos', ',', 'ótimo', '.', 'competição', 'real', ',', 'haveria', 'desenvolvimento', 'tecnológico', ',', 'cada', 'concorrente', 'apresentaria', 'projeto', '.', 'hoje', 'é', 'tudo', 'igual', ',', 'arquitetura', 'fixa', '(', 'v-6', '90', 'graus', ')', ',', 'onde', 'desenvolvimento', '?', 'custa', 'menos', ',', 'igual', '.', 'outra', 'medida', 'tomaria', 'reintroduzir', 'guerra', 'fabricantes', 'pneus', ',', 'haveria', 'fornecedor', 'apenas', '.', '(', 'todos', 'competem', 'pneus', 'pirelli', 'desde', '2011', '.', ')', 'uol', '-', 'apesar', 'todas', 'limitações', 'citadas', ',', 'algum', 'piloto', 'impressiona', '?', 'jv', '-', 'podem', 'dizer', 'pensam', '?', 'parecem', 'meninos', 'homens', ',', 'é', 'difícil', 'entendê-los', 'é', 'causa', 'idade', '.', 'talvez', 'culpa', 'equipes', 'dá', 'liberdade', '.', 'vejo', 'é', 'aprenderam', 'trabalhar', 'carro', 'conseguem', 'fazer', 'algo', '.', 'primeira', 'corrida', 'disseram', 'magnussen', 'novo', 'gênio', '.', 'duas', 'corridas', 'passou', 'ficar', 'atrás', 'companheiro', ',', 'jenson', 'button', '.', 'é', 'preciso', 'ter', 'calma', 'antes', 'falar', '.', '(', 'dinamarquês', 'kevin', 'magnussen', ',', '21', 'anos', ',', 'segundo', 'colocado', 'estreia', 'f1', ',', 'mclaren', ',', 'ano', ',', 'abertura', 'campeonato', ',', 'austrália', '.', ')', 'uol', '-', 'falhas', 'importantes', 'formação', 'pilotos', ',', 'podemos', 'entender', 'explicação.jv', '-', 'hoje', 'piloto', 'jovem', 'pai', 'vierem', 'falar', 'comigo', ',', 'perguntando', 'fazer', ',', 'pedir', 'orientação', ',', 'responderei', 'procurar', 'outra', 'coisa', '.', 'hoje', ',', 'ser', 'piloto', ',', 'alguns', 'milhões', 'dólares', 'banco', 'alguém', 'sustenta', 'prazer', '.', 'sei', 'conseguem', 'seguir', 'adiante', 'carreira', '.', 'outra', 'possibilidade', 'é', 'entrar', 'família', 'red', 'bull', 'porque', 'helmut', 'marko', 'gostou', '.', 'outra', 'maneira', 'além', 'dessas', '.', 'é', 'melhor', 'jogar', 'futebol', ',', 'chances', 'maiores', '.', 'sendo', 'veloz', ',', 'jovem', 'ninguém', 'vai', 'interessar', '.', 'querem', 'saber', 'quanto', 'dinheiro', 'pode', 'levar', '.', 'uol', '-', 'suíço', 'fabio', 'leimer', ',', 'campeão', 'gp2', 'ano', 'passado', ',', 'veio', 'público', 'dizer', 'título', 'gp2', 'us', '$', '14', 'milhões', 'conseguiu', 'vaga', 'f1', '.', 'pagou', 'mais.jv', '-', 'paddock', 'ninguém', 'olha', 'gp2', ',', 'é', 'importante', '.', 'homens', 'f1', 'olham', 'demais', 'categorias', ',', 'têm', 'nenhuma', 'importância', '.', 'gp2', 'seleciona', 'talento', ',', 'carros', 'estranhos', 'passado', 'pilotos', 'iam', 'bem', 'f1', '.', 'dinheiro', 'chegar', 'f1', '.', 'é', 'terrível', 'acontecendo', ',', 'selecionado', 'talento', '.', 'mclaren', 'resolveu', 'assumir', 'riscos', 'contratar', 'magnussen', '.', 'uol', '-', 'é', 'casado', 'brasileira', ',', 'camila.jv', '-', 'sim', ',', 'paulo', '.', 'dois', 'filhos', ',', 'dois', 'meninos', ',', '17', 'meses', '5', 'meses', '.', 'moram', 'conosco', 'outros', 'dois', 'filhos', ',', 'dois', 'meninos', ',', '7', '6', 'anos', '.', 'quatro', 'homens', 'lá', 'casa', ',', 'suíça', '.', 'mudança', 'grande', 'camila', ',', 'nada', 'fácil', ',', 'é', 'trabalho', ',', 'é', 'bastante', 'responsável', '.', 'uol', '-', 'alguns', 'meninos', 'decidir', 'ser', 'piloto', ',', 'reagirá', '?', 'jv', '-', 'vai', ',', 'tchau', '.', 'desejar', 'saber', 'alguma', 'coisa', 'mim', ',', 'claro', ',', 'vou', 'ajudar', ',', 'pagar', 'carreira', '.', 'creio', 'nessa', 'história', 'dar', 'chance', 'jovens', 'ser', 'jovem', 'vida', 'é', 'difícil', '.', 'damos', 'chance', 'merece', 'ter', 'chance', ',', 'é', 'diferente', '.', 'mostrar', 'verdade', 'interessado', ',', 'disposto', 'correr', 'riscos', ',', 'acordar', 'cedo', ',', 'submeter-se', 'sacrifícios', 'ser', 'piloto', ',', 'sim', '.', 'é', 'legal', 'pensar', 'f1', 'algo', 'onde', 'dinheiro', ',', 'jet', 'set', ',', 'desafio', 'chegar', 'lá', 'é', 'grande', '.', 'é', 'preciso', 'paixão', ',', 'abrir', 'mão', 'muita', 'coisa', 'viver', 'função', 'disso', '.', 'uol', '-', 'vez', 'filho', 'atendesse', 'pré-requisitos', ',', 'ajudaria', ',', 'então', 'exemplo', 'correr', 'kart', '?', 'jv', '-', 'iria', 'primeiro', 'disputar', 'corridas', 'esqui', ',', 'fiz', ',', 'é', 'suficiente', '.', 'ali', 'poderia', 'entender', 'mentalidade', 'enfrentar', 'problemas', 'tornar', 'rápido', '.', 'praticamente', 'competi', 'kart', '.', 'esqui', 'pode', 'desenvolver', 'filosofia', 'é', 'preciso', 'ser', 'eficiente', 'transportá-la', 'carro', '.', 'vai', 'sentar', 'começar', 'descobrir', 'ser', 'veloz', ',', 'fez', 'esqui', '.', 'capaz', 'esqui', 'carro', 'outros', 'esportes', '.', 'quiser', ',', 'poderá', 'fazer', 'escola', 'pilotagem', '.', 'uol', '-', 'nunca', 'gostou', 'falar', 'pai', '?', 'jv', '-', 'gosto', ',', 'sim', '.', 'acontece', 'é', 'comecei', 'todos', 'perguntavam', 'desejava', 'dar', 'sequência', 'pai', 'fazia', ',', 'continuar', 'história', '.', 'queriam', 'ver', ',', 'sonho', 'ver', 'gilles', 'villeneuve', '.', 'caso', '.', 'respondia', 'lá', 'razão', 'gostar', 'automobilismo', 'causa', 'pai', '.', 'evitar', 'discutir', 'alguém', 'parei', 'falar', 'nele', '.', 'uol', '-', 'vê', 'hoje', '?', 'jv', '-', 'seguramente', 'talentoso', '.', 'ter', 'sido', 'piloto', 'despertou', 'gosto', 'automobilismo', ',', 'forma', 'cresci', '.', '4', 'anos', 'brincava', 'motocross', ',', 'fazia', 'saltos', '.', 'fato', 'pai', 'ter', 'morrido', 'ajudou', 'crescer', 'homem', ',', '13', 'anos', '.', 'vivo', ',', 'conviver', 'representava', 'pesado', 'demais', 'mim', ',', 'funcionado', ',', 'continuado', 'sendo', 'menino', '.', 'todas', 'coisas', 'acontecem', 'vida', 'acabam', 'ajudar', '.', 'uol', '-', 'quanto', 'gilles', 'villeneuve', ',', 'piloto', 'assumia', 'elevados', 'riscos.jv', '-', 'é', 'interessante', '.', 'vezes', 'digo', 'algo', 'leio', 'pai', 'disse', 'respeito', 'tema', ',', 'algo', 'poderia', 'saber', 'comentou', ',', 'similaridades', 'importantes', '.', 'existe', 'alguma', 'coisa', ',', 'sim', ',', 'passa', 'sangue', '.', 'questão', 'educação', ',', 'aprende', '8', ',', '10', 'anos', 'idade', '.', 'ganhado', 'moto', '4', 'anos', 'visto', 'respeito', 'outros', 'pai', '...', 'importante', 'escolha', '.', 'trouxe', 'gana', 'buscar', 'limite', ',', 'usei', 'esqui', 'levei', 'automobilismo', '.', 'diferença', '.', 'corria', 'elevados', 'riscos', ',', 'penso', 'pensava', 'pouco', 'antes', 'pai', '.', 'batia', 'forte', '(', 'duas', 'vezes', 'temida', 'curva', 'eau', 'rouge', ',', 'spa-francorchamps', ',', 'bélgica', ')', ',', 'sentia', 'atingido', 'poder', 'ter', 'ferido', ',', 'vergonha', 'entregar', 'equipe', 'carro', 'destruído', '.', 'porém', 'penso', 'corresse', 'época', 'pai', 'morrido', '.', 'uol', '-', 'assisti', 'imagens', 'pai', 'correndo', ',', 'estilo', 'único', ',', 'agressivo', ',', 'corajoso', ',', 'sente', '?', 'jv', '-', 'acho', 'fascinante', '.', 'pessoas', 'têm', 'amor', 'vai', 'além', 'resultados', 'conquistava', '.', 'pessoas', 'entendiam', 'fazia', 'paixão', ',', 'coisa', 'importante', '.', 'pai', 'fazia', 'torcedores', 'sonharem', ',', 'época', 'heróis', ',', 'assistiam', 'corrida', 'diziam', 'si', 'próprios', 'poderiam', 'fazer', ',', 'poderiam', 'assumir', 'riscos', '.', 'hoje', ',', 'entanto', ',', 'olha', 'pilotos', ',', 'meninos', '.', 'pessoas', 'pensam', 'consigo', \"'ah\", ',', 'posso', 'jogar', 'play', 'station', 'então', 'posso', 'pilotar', 'f1', \"'\", ',', 'existe', 'fascínio', '.', 'é', 'fascinante', 'hoje', 'é', 'dinheiro', ',', 'jet', 'set', ',', 'mulheres', '.', 'pai', 'fez', 'muita', 'gente', 'sonhar', 'filtro', ',', 'espontâneo', ',', 'natural', '.', 'uol', '-', 'geração', 'pai', ',', 'companheiro', 'ferrari', ',', 'jody', 'scheckter', ',', 'nelson', 'piquet', ',', 'nigel', 'mansell', ',', 'alan', 'jones', ',', 'dentre', 'outros', ',', 'faria', 'sucesso', 'hoje', 'f1', '?', 'jv', '-', 'seguramente', '.', 'corriam', ',', 'conheciam', '.', 'corressem', 'hoje', ',', 'idade', 'daquela', 'época', ',', 'dois', 'anos', 'andariam', 'junto', 'pilotos', 'hoje', ',', 'talvez', 'melhor', 'porque', 'homens', '.', 'aprender', '(', 'recursos', 'hoje', ')', 'é', 'segredo', ',', 'gente', '60', 'anos', 'nunca', 'viu', 'computador', 'repente', 'mostra', 'capaz', '.', 'problema', 'daquela', 'geração', 'é', 'treinavam', 'fisicamente', ',', 'seguiam', 'nenhuma', 'dieta', '40', 'anos', 'velhos', 'f1', '.', 'mudou', '.', 'uol', '-', 'f1', 'bernie', 'ecclestone', '?', '(', 'homem', 'comanda', 'competição', 'fará', '84', 'anos', 'dia', '28', 'outubro', ')', '.jv', '-', 'mim', 'f1', 'vai', 'morrer', '.', 'sobreviverá', '.', 'vejo', 'pode', 'sobreviver', '.', 'f1', 'é', 'democracia', '.', 'chegado', 'onde', 'chegou', '.', 'decisões', 'ser', 'tomadas', 'representantes', 'dez', 'equipes', 'vai', 'funcionar', ',', 'cada', 'vai', 'querer', 'coisa', 'diferente', '.', 'bernie', 'é', 'capaz', 'falar', 'governos', ',', 'fazer', 'coisas', 'difíceis', '.', 'decide', '.', 'uol', '-', 'fala', 'contratar', 'empresa', 'especializada', 'criar', 'espetáculos', 'ajudar', 'f1.jv', '-', 'tentando', 'fazer', 'f1', 'show', ',', 'é', 'esporte', '.', 'limitarem', 'fazer', 'f1', 'apenas', 'show', ',', 'pessoas', 'vão', 'assistir', 'circo', ',', 'esporte', '.', 'pilotos', 'heróis', ',', 'é', 'pessoas', 'desejam', 'ver', '.', 'chegam', 'aqui', 'áustria', 'dizem', 'pista', 'é', 'perigosa', ',', 'é', '?', 'perderam', 'referência', '.']\n"
     ]
    }
   ],
   "source": [
    "most_similar = most_similar_doc(d2v_sci2, spo_docs, d2vmodel)\n",
    "\n",
    "print(\"Sci doc:\\n\\n{}\\n\".format(sci_docs[1]))\n",
    "print(\"Most similar spo doc found:\\n\\n{}\".format(most_similar))"
   ]
  }
 ],
 "metadata": {
  "kernelspec": {
   "display_name": "Python 3",
   "language": "python",
   "name": "python3"
  },
  "language_info": {
   "codemirror_mode": {
    "name": "ipython",
    "version": 3
   },
   "file_extension": ".py",
   "mimetype": "text/x-python",
   "name": "python",
   "nbconvert_exporter": "python",
   "pygments_lexer": "ipython3",
   "version": "3.6.7"
  }
 },
 "nbformat": 4,
 "nbformat_minor": 2
}

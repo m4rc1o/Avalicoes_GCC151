{
 "cells": [
  {
   "cell_type": "code",
   "execution_count": 2,
   "metadata": {},
   "outputs": [
    {
     "data": {
      "text/plain": [
       "'A lua hoje está bonita'"
      ]
     },
     "execution_count": 2,
     "metadata": {},
     "output_type": "execute_result"
    }
   ],
   "source": [
    "import re\n",
    "\n",
    "string = \"Pesquisar este blog A lua hoje está bonita\"\n",
    "\n",
    "re.sub(\"^Pesquisar este blog \" , '',  string)\n"
   ]
  },
  {
   "cell_type": "code",
   "execution_count": 6,
   "metadata": {},
   "outputs": [
    {
     "name": "stdout",
     "output_type": "stream",
     "text": [
      "[('Sede', 12), ('Amor', 10), ('Esperança', 8), ('Ódio', 5), ('Fome', 1)]\n"
     ]
    }
   ],
   "source": [
    "import operator\n",
    "\n",
    "vocab_freq = {'Amor': 10, 'Ódio': 5, 'Esperança': 8, 'Fome': 1, 'Sede': 12}\n",
    "ordered_vocab_freq = sorted(vocab_freq.items(), key=operator.itemgetter(1), reverse=True)\n",
    "\n",
    "print(ordered_vocab_freq)"
   ]
  },
  {
   "cell_type": "code",
   "execution_count": 9,
   "metadata": {},
   "outputs": [
    {
     "data": {
      "text/plain": [
       "'hoje a note nao tem luar hoje a tarde tem jantar'"
      ]
     },
     "execution_count": 9,
     "metadata": {},
     "output_type": "execute_result"
    }
   ],
   "source": [
    "import unidecode\n",
    "\n",
    "text = \"hoje a note nao tem luar hoje a tarde tem jantar\"\n",
    "unidecode.unidecode(text)"
   ]
  },
  {
   "cell_type": "code",
   "execution_count": 11,
   "metadata": {},
   "outputs": [
    {
     "data": {
      "text/plain": [
       "[('hoje', 'a'),\n",
       " ('a', 'note'),\n",
       " ('note', 'nao'),\n",
       " ('nao', 'tem'),\n",
       " ('tem', 'luar'),\n",
       " ('luar', 'hoje'),\n",
       " ('hoje', 'a'),\n",
       " ('a', 'tarde'),\n",
       " ('tarde', 'tem'),\n",
       " ('tem', 'jantar')]"
      ]
     },
     "execution_count": 11,
     "metadata": {},
     "output_type": "execute_result"
    }
   ],
   "source": [
    "import nltk\n",
    "tokens = nltk.word_tokenize(text)\n",
    "bigrams = list(nltk.bigrams(tokens))\n",
    "bigrams"
   ]
  },
  {
   "cell_type": "code",
   "execution_count": 13,
   "metadata": {},
   "outputs": [
    {
     "data": {
      "text/plain": [
       "{\"('hoje', 'a')\": 2,\n",
       " \"('a', 'note')\": 1,\n",
       " \"('note', 'nao')\": 1,\n",
       " \"('nao', 'tem')\": 1,\n",
       " \"('tem', 'luar')\": 1,\n",
       " \"('luar', 'hoje')\": 1,\n",
       " \"('a', 'tarde')\": 1,\n",
       " \"('tarde', 'tem')\": 1,\n",
       " \"('tem', 'jantar')\": 1}"
      ]
     },
     "execution_count": 13,
     "metadata": {},
     "output_type": "execute_result"
    }
   ],
   "source": [
    "bigram_freqs = {}\n",
    "for bigram in bigrams:\n",
    "    if str(bigram) not in bigram_freqs:\n",
    "        bigram_freqs[str(bigram)] = 1\n",
    "    else:\n",
    "        bigram_freqs[str(bigram)] += 1\n",
    "bigram_freqs"
   ]
  },
  {
   "cell_type": "markdown",
   "metadata": {},
   "source": [
    "# Calculando a média de vetores usando numpy"
   ]
  },
  {
   "cell_type": "code",
   "execution_count": 6,
   "metadata": {},
   "outputs": [
    {
     "data": {
      "text/plain": [
       "array([3., 3.])"
      ]
     },
     "execution_count": 6,
     "metadata": {},
     "output_type": "execute_result"
    }
   ],
   "source": [
    "import numpy\n",
    "\n",
    "vects = [[2, 2], [4, 4]]\n",
    "\n",
    "numpy.mean(vects, axis=0)"
   ]
  }
 ],
 "metadata": {
  "kernelspec": {
   "display_name": "Python 3",
   "language": "python",
   "name": "python3"
  },
  "language_info": {
   "codemirror_mode": {
    "name": "ipython",
    "version": 3
   },
   "file_extension": ".py",
   "mimetype": "text/x-python",
   "name": "python",
   "nbconvert_exporter": "python",
   "pygments_lexer": "ipython3",
   "version": "3.6.7"
  }
 },
 "nbformat": 4,
 "nbformat_minor": 2
}

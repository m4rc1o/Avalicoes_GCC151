{
 "cells": [
  {
   "cell_type": "code",
   "execution_count": null,
   "metadata": {},
   "outputs": [],
   "source": [
    "import nltk\n",
    "from nltk.tokenize import word_tokenize\n",
    "\n",
    "import urllib3\n",
    "import re\n",
    "from bs4 import BeautifulSoup\n",
    "import os\n",
    "import justext"
   ]
  },
  {
   "cell_type": "markdown",
   "metadata": {},
   "source": [
    "# Implementing a web crawler to get corpora data"
   ]
  },
  {
   "cell_type": "code",
   "execution_count": null,
   "metadata": {
    "scrolled": false
   },
   "outputs": [],
   "source": [
    "urllib3.disable_warnings(urllib3.exceptions.InsecureRequestWarning)\n",
    "user_agent = {'user-agent': 'Mozilla/5.0 (Windows NT 6.1; Win64; x64)'}\n",
    "\n",
    "http = urllib3.PoolManager(cert_reqs='CERT_NONE', num_pools=10, headers=user_agent)\n",
    "\n",
    "\n",
    "class Crawler:\n",
    "    \n",
    "    def __init__(self, corpus_path, max_files, seed_url, url_pattern, corpus_start_number=1):\n",
    "        self.corpus_path = corpus_path\n",
    "        self.max_files = max_files\n",
    "        self.seed_url = seed_url\n",
    "        self.url_pattern = url_pattern\n",
    "        self.visited_links = {}\n",
    "        self.to_be_visited = []\n",
    "        self.corpus_number = corpus_start_number\n",
    "        \n",
    "        if not os.path.exists(self.corpus_path):\n",
    "            os.makedirs(self.corpus_path)\n",
    "        \n",
    "    def crawl(self):\n",
    "        #gets and saves the first page \n",
    "        first_urls = self.get_page(self.seed_url)\n",
    "        \n",
    "        #stores the links found in the first page\n",
    "        self.add_links(first_urls)\n",
    "        \n",
    "        #finds the next link to be visited\n",
    "        next_link = self.get_next_link()\n",
    "        \n",
    "        #visits all links found and gets pages \n",
    "        while next_link and self.corpus_number <= self.max_files:\n",
    "            links = self.get_page(next_link)\n",
    "            self.add_links(links)\n",
    "            next_link = self.get_next_link()\n",
    "        \n",
    "        self.to_be_visited = []\n",
    "        self.visited_links = {}\n",
    "    \n",
    "    def get_page(self, url):\n",
    "        \n",
    "        print(\"getting page {}\".format(url))\n",
    "        response = http.request('GET', url)\n",
    "\n",
    "        # store text content\n",
    "        paragraphs = justext.justext(response.data, justext.get_stoplist(\"Portuguese\"))\n",
    "        paragraphs = [p for p in paragraphs if not p.is_boilerplate]\n",
    "        \n",
    "        if(paragraphs): # tests if the page has at least one paragraph\n",
    "           # print(\"saving page {}\".format(url))\n",
    "            corpus_name = str(self.corpus_number) + '_' + url.replace(\".\", \"_\").replace(\"/\",\"-\")\n",
    "            corpus_path_name = \"{}/{}.txt\".format(self.corpus_path, corpus_name)\n",
    "            with open(corpus_path_name, \"w\", encoding='utf-8') as output_file:\n",
    "                for paragraph in paragraphs:\n",
    "                    output_file.write(paragraph.text.replace('\\n', ' ') + ' ')\n",
    "                self.corpus_number += 1\n",
    "\n",
    "        # get links \n",
    "        complete_url = re.compile(\"^http.*\")\n",
    "        soup = BeautifulSoup(response.data, 'html.parser')\n",
    "        links = [link.get('href') if complete_url.match(link.get('href')) \n",
    "                 else self.seed_url + link.get('href')\n",
    "                 for link in soup.findAll('a', attrs={'href': re.compile(self.url_pattern)})]\n",
    "            \n",
    "        #print(\"Found the folowing links: \" + str(links))\n",
    "        print(\"Visited links: \" + str(self.visited_links))\n",
    "        return links\n",
    "\n",
    "    def add_links(self, links):\n",
    "        links = list(set(links))\n",
    "        self.to_be_visited.extend([link for link in links if link not in self.visited_links])\n",
    "\n",
    "    def get_next_link(self):\n",
    "        next_link = None\n",
    "        if(self.to_be_visited):\n",
    "            next_link = self.to_be_visited.pop(0)\n",
    "            self.visited_links[next_link] = None\n",
    "        return next_link"
   ]
  },
  {
   "cell_type": "markdown",
   "metadata": {},
   "source": [
    "# Getting corpus \"ciencia_e_tecnologia\""
   ]
  },
  {
   "cell_type": "code",
   "execution_count": null,
   "metadata": {},
   "outputs": [],
   "source": [
    "#getting corpora from the site Inovação Tecnológica\n",
    "tec_path = \"../data/corpora/ciencia_e_tecnologia\"\n",
    "tec_seed = \"https://www.inovacaotecnologica.com.br/\"\n",
    "tec_reg_exp = \"(../)*noticias/.*\"\n",
    "crawler_ciencia_tec = Crawler(tec_path, 500, tec_seed, tec_reg_exp)"
   ]
  },
  {
   "cell_type": "code",
   "execution_count": null,
   "metadata": {},
   "outputs": [],
   "source": [
    "#crawler_ciencia_tec.crawl()"
   ]
  },
  {
   "cell_type": "markdown",
   "metadata": {},
   "source": [
    "# Getting corpus \"estporte\""
   ]
  },
  {
   "cell_type": "code",
   "execution_count": null,
   "metadata": {},
   "outputs": [],
   "source": [
    "crawler_esporte = Crawler(\"../data/corpora/esporte\", 500, \"http://www.blogdoesporte.net/\",\n",
    "                           \"^http://www.blogdoesporte.net/\\d+\")\n",
    "\n"
   ]
  },
  {
   "cell_type": "code",
   "execution_count": null,
   "metadata": {},
   "outputs": [],
   "source": [
    "#crawler_esporte.crawl()"
   ]
  }
 ],
 "metadata": {
  "kernelspec": {
   "display_name": "Python 3",
   "language": "python",
   "name": "python3"
  },
  "language_info": {
   "codemirror_mode": {
    "name": "ipython",
    "version": 3
   },
   "file_extension": ".py",
   "mimetype": "text/x-python",
   "name": "python",
   "nbconvert_exporter": "python",
   "pygments_lexer": "ipython3",
   "version": "3.6.7"
  }
 },
 "nbformat": 4,
 "nbformat_minor": 2
}
